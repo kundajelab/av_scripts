{
 "cells": [
  {
   "cell_type": "code",
   "execution_count": 3,
   "metadata": {
    "collapsed": false
   },
   "outputs": [],
   "source": [
    "import keras\n",
    "\n",
    "input_shape = (200,4)\n",
    "inp = keras.layers.Input(shape=input_shape)\n",
    "conv = keras.layers.Convolution1D(nb_filter=15, filter_length=15, subsample_length=1)(inp)\n",
    "relu_post_conv = keras.layers.Activation(\"relu\")(conv)\n",
    "gap = keras.layers.pooling.GlobalAveragePooling1D()(relu_post_conv)\n",
    "dense = keras.layers.Dense(1)(gap)\n",
    "sigmoid_out = keras.layers.Activation(\"sigmoid\")(dense)\n",
    "grad_layer = keras.layers.core.Merge(mode='grads')([inp, dense])\n",
    "model = keras.models.Model(input=inp, output=[sigmoid_out, grad_layer])\n",
    "model.compile(optimizer=\"adam\", loss=[\"binary_crossentropy\", \"mse\"])"
   ]
  },
  {
   "cell_type": "code",
   "execution_count": 5,
   "metadata": {
    "collapsed": false
   },
   "outputs": [
    {
     "name": "stdout",
     "output_type": "stream",
     "text": [
      "Epoch 1/10\n",
      "1000/1000 [==============================] - 0s - loss: 1.0282 - activation_4_loss: 0.6952 - merge_2_loss: 0.3329     \n",
      "Epoch 2/10\n",
      "1000/1000 [==============================] - 0s - loss: 1.0266 - activation_4_loss: 0.6939 - merge_2_loss: 0.3327     \n",
      "Epoch 3/10\n",
      "1000/1000 [==============================] - 0s - loss: 1.0259 - activation_4_loss: 0.6933 - merge_2_loss: 0.3326     \n",
      "Epoch 4/10\n",
      "1000/1000 [==============================] - 0s - loss: 1.0263 - activation_4_loss: 0.6935 - merge_2_loss: 0.3328     \n",
      "Epoch 5/10\n",
      "1000/1000 [==============================] - 0s - loss: 1.0271 - activation_4_loss: 0.6940 - merge_2_loss: 0.3330     \n",
      "Epoch 6/10\n",
      "1000/1000 [==============================] - 0s - loss: 1.0265 - activation_4_loss: 0.6939 - merge_2_loss: 0.3326     \n",
      "Epoch 7/10\n",
      "1000/1000 [==============================] - 0s - loss: 1.0270 - activation_4_loss: 0.6941 - merge_2_loss: 0.3328     \n",
      "Epoch 8/10\n",
      "1000/1000 [==============================] - 0s - loss: 1.0272 - activation_4_loss: 0.6946 - merge_2_loss: 0.3326     \n",
      "Epoch 9/10\n",
      "1000/1000 [==============================] - 0s - loss: 1.0289 - activation_4_loss: 0.6959 - merge_2_loss: 0.3331     \n",
      "Epoch 10/10\n",
      "1000/1000 [==============================] - 0s - loss: 1.0262 - activation_4_loss: 0.6932 - merge_2_loss: 0.3330     \n"
     ]
    },
    {
     "data": {
      "text/plain": [
       "<keras.callbacks.History at 0x7f64f9fdf690>"
      ]
     },
     "execution_count": 5,
     "metadata": {},
     "output_type": "execute_result"
    }
   ],
   "source": [
    "import numpy as np\n",
    "\n",
    "num_samples = 1000\n",
    "X = np.random.random([num_samples]+list(input_shape))\n",
    "Y_labels = (np.random.random([num_samples, 1]) > 0.5)*1.0\n",
    "Y_grads = np.random.random([num_samples]+list(input_shape))\n",
    "#make a multually exclusive set of samples for the actual labels and the grads\n",
    "sample_weights_labels = (np.random.random([num_samples]) > 0.5)*1.0\n",
    "sample_weights_grads = 1.0 - sample_weights_labels\n",
    "\n",
    "model.fit(x=X, y=[Y_labels, Y_grads], sample_weight=[sample_weights_labels, sample_weights_grads])"
   ]
  },
  {
   "cell_type": "code",
   "execution_count": 8,
   "metadata": {
    "collapsed": false
   },
   "outputs": [
    {
     "name": "stdout",
     "output_type": "stream",
     "text": [
      "0.0\n"
     ]
    }
   ],
   "source": [
    "#do a sanity check to make sure that the grads are actually the grads\n",
    "\n",
    "model_predicted_grads = model.predict(X)[1]\n",
    "\n",
    "import theano\n",
    "from theano import tensor as T\n",
    "from keras import backend as K\n",
    "\n",
    "actual_grad_func = theano.function([inp], T.grad(K.sum(dense), inp), allow_input_downcast=True)\n",
    "actual_grads = actual_grad_func(X)\n",
    "\n",
    "print(np.max(np.abs(model_predicted_grads-actual_grads)))"
   ]
  },
  {
   "cell_type": "code",
   "execution_count": null,
   "metadata": {
    "collapsed": true
   },
   "outputs": [],
   "source": []
  }
 ],
 "metadata": {
  "kernelspec": {
   "display_name": "Python 2",
   "language": "python",
   "name": "python2"
  },
  "language_info": {
   "codemirror_mode": {
    "name": "ipython",
    "version": 2
   },
   "file_extension": ".py",
   "mimetype": "text/x-python",
   "name": "python",
   "nbconvert_exporter": "python",
   "pygments_lexer": "ipython2",
   "version": "2.7.11"
  }
 },
 "nbformat": 4,
 "nbformat_minor": 0
}
