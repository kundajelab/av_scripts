{
 "cells": [
  {
   "cell_type": "code",
   "execution_count": 2,
   "metadata": {
    "collapsed": false
   },
   "outputs": [],
   "source": [
    "import simdna\n",
    "from simdna import synthetic as sn\n",
    "import numpy as np\n",
    "loaded_motifs = sn.LoadedEncodeMotifs(simdna.ENCODE_MOTIFS_PATH, pseudocountProb=0.001)"
   ]
  },
  {
   "cell_type": "code",
   "execution_count": 3,
   "metadata": {
    "collapsed": false
   },
   "outputs": [],
   "source": [
    "#pwm_names_full = ([\"IRF_disc\"+str(x+1) for x in range(6)]+[\"IRF_known\"+str(x+1) for x in range(21)]\n",
    "#                  +[\"SPI1_disc\"+str(x+1) for x in range(3)]+[\"SPI1_known\"+str(x+1) for x in range(4)])\n",
    "#pwm_names_minimal = [\"IRF_known9\", \"SPI1_known2\"]\n",
    "\n",
    "pwm_names_full = ([\"GATA_disc\"+str(x+1) for x in range(6)]+[\"GATA_known\"+str(x+1) for x in range(22)]\n",
    "                  +[\"TAL1_disc\"+str(x+1) for x in range(2)]+[\"TAL1_known\"+str(x+1) for x in range(5)])\n",
    "pwm_names_minimal = [\"GATA_disc1\", \"TAL1_known1\"]\n",
    "\n",
    "for pwm_names, weights_file in [(pwm_names_full, \"weights_all\"),(pwm_names_minimal, \"weights_minimal\")]:\n",
    "\n",
    "    log_odds_arrays = []\n",
    "\n",
    "    for pwm_name in pwm_names:\n",
    "        motif = loaded_motifs.getPwm(pwm_name).getRows()/(np.array([0.3, 0.2, 0.2, 0.3])[None,:])\n",
    "        log_odds = np.log(np.array(motif))[::-1,:]\n",
    "        log_odds_arrays.append(log_odds)\n",
    "\n",
    "    longest = max(x.shape[0] for x in log_odds_arrays)\n",
    "    same_size_log_odds_arrays = []\n",
    "    for array in log_odds_arrays:\n",
    "        full_array = np.zeros((longest, 4))\n",
    "        total_pad = longest - array.shape[0]\n",
    "        left_pad = int(total_pad/2)\n",
    "        right_pad = total_pad - left_pad\n",
    "        full_array[left_pad:(longest-right_pad),:] = array\n",
    "        same_size_log_odds_arrays.append(full_array)\n",
    "\n",
    "    np.save(weights_file+\".npy\",np.transpose(same_size_log_odds_arrays,(1,2,0))[:,None,:,:])"
   ]
  },
  {
   "cell_type": "code",
   "execution_count": 4,
   "metadata": {
    "collapsed": false
   },
   "outputs": [
    {
     "name": "stdout",
     "output_type": "stream",
     "text": [
      "(22, 1, 4, 35)\n",
      "(16, 1, 4, 2)\n"
     ]
    }
   ],
   "source": [
    "print(np.load(\"weights_all.npy\").shape)\n",
    "print(np.load(\"weights_minimal.npy\").shape)"
   ]
  },
  {
   "cell_type": "code",
   "execution_count": 31,
   "metadata": {
    "collapsed": false
   },
   "outputs": [
    {
     "name": "stderr",
     "output_type": "stream",
     "text": [
      "Using Theano backend.\n",
      "WARNING (theano.sandbox.cuda): The cuda backend is deprecated and will be removed in the next release (v0.10).  Please switch to the gpuarray backend. You can get more information about how to switch at this URL:\n",
      " https://github.com/Theano/Theano/wiki/Converting-to-the-new-gpu-back-end%28gpuarray%29\n",
      "\n",
      "WARNING:theano.sandbox.cuda:The cuda backend is deprecated and will be removed in the next release (v0.10).  Please switch to the gpuarray backend. You can get more information about how to switch at this URL:\n",
      " https://github.com/Theano/Theano/wiki/Converting-to-the-new-gpu-back-end%28gpuarray%29\n",
      "\n",
      "Using gpu device 0: GeForce GT 750M (CNMeM is disabled, cuDNN 5005)\n"
     ]
    }
   ],
   "source": [
    "import keras\n",
    "from keras.layers.convolutional import Convolution1DFromWeightFile"
   ]
  },
  {
   "cell_type": "code",
   "execution_count": 32,
   "metadata": {
    "collapsed": false
   },
   "outputs": [
    {
     "data": {
      "text/plain": [
       "<keras.layers.convolutional.Convolution1DFromWeightFile at 0x11676e510>"
      ]
     },
     "execution_count": 32,
     "metadata": {},
     "output_type": "execute_result"
    }
   ],
   "source": [
    "Convolution1DFromWeightFile(\"weights.npy\")"
   ]
  },
  {
   "cell_type": "code",
   "execution_count": 52,
   "metadata": {
    "collapsed": false
   },
   "outputs": [],
   "source": [
    "from keras.models import Sequential\n",
    "from keras.layers.convolutional import Convolution1DFromWeightFile\n",
    "from keras.layers.pooling import MaxPoolingFilter1D\n",
    "from keras.layers.core import Activation\n",
    "\n",
    "model = Sequential()\n",
    "model.add(Convolution1DFromWeightFile(\"weights.npy\", input_shape=(200,4)))\n",
    "model.add(Activation(\"relu\"))\n",
    "model.add(MaxPoolingFilter1D(pool_length=10))\n",
    "model.compile(optimizer='rmsprop',\n",
    "          loss='categorical_crossentropy')"
   ]
  },
  {
   "cell_type": "code",
   "execution_count": 55,
   "metadata": {
    "collapsed": false
   },
   "outputs": [],
   "source": [
    "import simdna\n",
    "data = simdna.synthetic.core.read_simdata_file(\"variableSpacingGrammarSimulation_motif1-GATA_disc1_motif2-TAL1_known1_seqLength200_numSeq1000.simdata.gz\")"
   ]
  },
  {
   "cell_type": "code",
   "execution_count": 58,
   "metadata": {
    "collapsed": false
   },
   "outputs": [],
   "source": [
    "from avutils import util\n",
    "\n",
    "onehot_data = np.array([util.seq_to_one_hot(x) for x in data.sequences])"
   ]
  },
  {
   "cell_type": "code",
   "execution_count": 62,
   "metadata": {
    "collapsed": false
   },
   "outputs": [
    {
     "name": "stdout",
     "output_type": "stream",
     "text": [
      "pos-71_GATA_disc1-CCCGATAAGG-Gap7-TAL1_known1-CCAGCCAGATGGTGGC\n"
     ]
    }
   ],
   "source": [
    "print(data.embeddings[0][2])"
   ]
  },
  {
   "cell_type": "code",
   "execution_count": null,
   "metadata": {
    "collapsed": true
   },
   "outputs": [],
   "source": []
  }
 ],
 "metadata": {
  "kernelspec": {
   "display_name": "Python 2",
   "language": "python",
   "name": "python2"
  },
  "language_info": {
   "codemirror_mode": {
    "name": "ipython",
    "version": 2
   },
   "file_extension": ".py",
   "mimetype": "text/x-python",
   "name": "python",
   "nbconvert_exporter": "python",
   "pygments_lexer": "ipython2",
   "version": "2.7.12"
  }
 },
 "nbformat": 4,
 "nbformat_minor": 0
}
