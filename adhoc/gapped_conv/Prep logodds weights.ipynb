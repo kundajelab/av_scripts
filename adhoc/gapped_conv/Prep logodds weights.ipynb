{
 "cells": [
  {
   "cell_type": "code",
   "execution_count": 10,
   "metadata": {
    "collapsed": false
   },
   "outputs": [],
   "source": [
    "import simdna\n",
    "from simdna import synthetic as sn\n",
    "loaded_motifs = sn.LoadedEncodeMotifs(simdna.ENCODE_MOTIFS_PATH, pseudocountProb=0.001)"
   ]
  },
  {
   "cell_type": "code",
   "execution_count": 38,
   "metadata": {
    "collapsed": false
   },
   "outputs": [],
   "source": [
    "gata_pwm = loaded_motifs.getPwm(\"GATA_disc1\").getRows()/(np.array([0.3, 0.2, 0.2, 0.3])[None,:])"
   ]
  },
  {
   "cell_type": "code",
   "execution_count": 39,
   "metadata": {
    "collapsed": false
   },
   "outputs": [
    {
     "data": {
      "text/plain": [
       "array([[  1.07559416e+00,   9.26249075e-01,   1.79839106e+00,\n",
       "          4.41309083e-01],\n",
       "       [  4.58928113e-01,   2.37981905e+00,   1.61339124e+00,\n",
       "          2.12261693e-01],\n",
       "       [  2.22083444e+00,   5.03392355e-01,   1.25000000e-03,\n",
       "          7.76070653e-01],\n",
       "       [  8.33333333e-04,   1.25000000e-03,   4.99625000e+00,\n",
       "          8.33333333e-04],\n",
       "       [  3.33083333e+00,   1.25000000e-03,   1.25000000e-03,\n",
       "          8.33333333e-04],\n",
       "       [  8.33333333e-04,   1.25000000e-03,   1.25000000e-03,\n",
       "          3.33083333e+00],\n",
       "       [  2.92559564e+00,   1.25000000e-03,   1.25000000e-03,\n",
       "          4.06071023e-01],\n",
       "       [  3.24273818e+00,   1.33392725e-01,   1.25000000e-03,\n",
       "          8.33333333e-04],\n",
       "       [  8.33333333e-04,   2.65535450e-01,   4.73196455e+00,\n",
       "          8.33333333e-04],\n",
       "       [  8.11308713e-01,   1.24339161e+00,   2.53839531e+00,\n",
       "          8.33333333e-04]])"
      ]
     },
     "execution_count": 39,
     "metadata": {},
     "output_type": "execute_result"
    }
   ],
   "source": [
    "gata_pwm"
   ]
  },
  {
   "cell_type": "code",
   "execution_count": 45,
   "metadata": {
    "collapsed": false
   },
   "outputs": [],
   "source": [
    "import numpy as np\n",
    "np.save(\"weights.npy\",np.log(np.array(gata_pwm))[::-1,:][:,None,:,None]/5.0)"
   ]
  },
  {
   "cell_type": "code",
   "execution_count": 46,
   "metadata": {
    "collapsed": false
   },
   "outputs": [
    {
     "name": "stdout",
     "output_type": "stream",
     "text": [
      "EmptyBackground_seqLength-200_numSeqs-1000.simdata.gz\r\n",
      "Gappy Conv Test.ipynb\r\n",
      "Prep logodds weights.ipynb\r\n",
      "\u001b[1m\u001b[34mconfig\u001b[m\u001b[m\r\n",
      "inputs.fa.gz\r\n",
      "labels.txt.gz\r\n",
      "\u001b[1m\u001b[34mmake_hdf5_yaml\u001b[m\u001b[m\r\n",
      "\u001b[1m\u001b[34mmodel_files\u001b[m\u001b[m\r\n",
      "motifGrammarSimulation_twoMotifs_motif1-GATA_disc1_motif2-GATA_disc1_seqLength200_numSeq1000.simdata.gz\r\n",
      "\u001b[1m\u001b[31mprep_data_and_make_hdf5.sh\u001b[m\u001b[m\r\n",
      "runs_perf-metric-auROC.db\r\n",
      "\u001b[1m\u001b[34msplits\u001b[m\u001b[m\r\n",
      "test_data.hdf5\r\n",
      "train_data.hdf5\r\n",
      "valid_data.hdf5\r\n",
      "variableSpacingGrammarSimulation_motif1-GATA_disc1_motif2-GATA_disc1_seqLength200_numSeq1000.simdata.gz\r\n",
      "weights.npy\r\n"
     ]
    }
   ],
   "source": [
    "!ls"
   ]
  },
  {
   "cell_type": "code",
   "execution_count": 47,
   "metadata": {
    "collapsed": false
   },
   "outputs": [
    {
     "data": {
      "text/plain": [
       "(10, 1, 4, 1)"
      ]
     },
     "execution_count": 47,
     "metadata": {},
     "output_type": "execute_result"
    }
   ],
   "source": [
    "np.load(\"weights.npy\").shape"
   ]
  },
  {
   "cell_type": "code",
   "execution_count": 48,
   "metadata": {
    "collapsed": false
   },
   "outputs": [
    {
     "data": {
      "text/plain": [
       "array([[[[-0.04182133],\n",
       "         [ 0.04356856],\n",
       "         [ 0.18630642],\n",
       "         [-1.41801537]]],\n",
       "\n",
       "\n",
       "       [[[-1.41801537],\n",
       "         [-0.26520139],\n",
       "         [ 0.31086809],\n",
       "         [-1.41801537]]],\n",
       "\n",
       "\n",
       "       [[[ 0.23528362],\n",
       "         [-0.40289154],\n",
       "         [-1.33692235],\n",
       "         [-1.41801537]]],\n",
       "\n",
       "\n",
       "       [[[ 0.21469962],\n",
       "         [-1.33692235],\n",
       "         [-1.33692235],\n",
       "         [-0.18024544]]],\n",
       "\n",
       "\n",
       "       [[[-1.41801537],\n",
       "         [-1.33692235],\n",
       "         [-1.33692235],\n",
       "         [ 0.2406445 ]]],\n",
       "\n",
       "\n",
       "       [[[ 0.2406445 ],\n",
       "         [-1.33692235],\n",
       "         [-1.33692235],\n",
       "         [-1.41801537]]],\n",
       "\n",
       "\n",
       "       [[[-1.41801537],\n",
       "         [-1.33692235],\n",
       "         [ 0.32173753],\n",
       "         [-1.41801537]]],\n",
       "\n",
       "\n",
       "       [[[ 0.1595766 ],\n",
       "         [-0.13727708],\n",
       "         [-1.33692235],\n",
       "         [-0.05070234]]],\n",
       "\n",
       "\n",
       "       [[[-0.15577234],\n",
       "         [ 0.17340489],\n",
       "         [ 0.09566767],\n",
       "         [-0.30998707]]],\n",
       "\n",
       "\n",
       "       [[[ 0.01457464],\n",
       "         [-0.01532242],\n",
       "         [ 0.11737848],\n",
       "         [-0.16360196]]]])"
      ]
     },
     "execution_count": 48,
     "metadata": {},
     "output_type": "execute_result"
    }
   ],
   "source": [
    "np.load(\"weights.npy\")"
   ]
  },
  {
   "cell_type": "code",
   "execution_count": 31,
   "metadata": {
    "collapsed": false
   },
   "outputs": [
    {
     "name": "stderr",
     "output_type": "stream",
     "text": [
      "Using Theano backend.\n",
      "WARNING (theano.sandbox.cuda): The cuda backend is deprecated and will be removed in the next release (v0.10).  Please switch to the gpuarray backend. You can get more information about how to switch at this URL:\n",
      " https://github.com/Theano/Theano/wiki/Converting-to-the-new-gpu-back-end%28gpuarray%29\n",
      "\n",
      "WARNING:theano.sandbox.cuda:The cuda backend is deprecated and will be removed in the next release (v0.10).  Please switch to the gpuarray backend. You can get more information about how to switch at this URL:\n",
      " https://github.com/Theano/Theano/wiki/Converting-to-the-new-gpu-back-end%28gpuarray%29\n",
      "\n",
      "Using gpu device 0: GeForce GT 750M (CNMeM is disabled, cuDNN 5005)\n"
     ]
    }
   ],
   "source": [
    "import keras\n",
    "from keras.layers.convolutional import Convolution1DFromWeightFile"
   ]
  },
  {
   "cell_type": "code",
   "execution_count": 32,
   "metadata": {
    "collapsed": false
   },
   "outputs": [
    {
     "data": {
      "text/plain": [
       "<keras.layers.convolutional.Convolution1DFromWeightFile at 0x11676e510>"
      ]
     },
     "execution_count": 32,
     "metadata": {},
     "output_type": "execute_result"
    }
   ],
   "source": [
    "Convolution1DFromWeightFile(\"weights.npy\")"
   ]
  },
  {
   "cell_type": "code",
   "execution_count": 52,
   "metadata": {
    "collapsed": false
   },
   "outputs": [],
   "source": [
    "from keras.models import Sequential\n",
    "from keras.layers.convolutional import Convolution1DFromWeightFile\n",
    "from keras.layers.pooling import MaxPoolingFilter1D\n",
    "from keras.layers.core import Activation\n",
    "\n",
    "model = Sequential()\n",
    "model.add(Convolution1DFromWeightFile(\"weights.npy\", input_shape=(200,4)))\n",
    "model.add(Activation(\"relu\"))\n",
    "model.add(MaxPoolingFilter1D(pool_length=10))\n",
    "model.compile(optimizer='rmsprop',\n",
    "          loss='categorical_crossentropy')"
   ]
  },
  {
   "cell_type": "code",
   "execution_count": 55,
   "metadata": {
    "collapsed": false
   },
   "outputs": [],
   "source": [
    "import simdna\n",
    "data = simdna.synthetic.core.read_simdata_file(\"variableSpacingGrammarSimulation_motif1-GATA_disc1_motif2-TAL1_known1_seqLength200_numSeq1000.simdata.gz\")"
   ]
  },
  {
   "cell_type": "code",
   "execution_count": 58,
   "metadata": {
    "collapsed": false
   },
   "outputs": [],
   "source": [
    "from avutils import util\n",
    "\n",
    "onehot_data = np.array([util.seq_to_one_hot(x) for x in data.sequences])"
   ]
  },
  {
   "cell_type": "code",
   "execution_count": 62,
   "metadata": {
    "collapsed": false
   },
   "outputs": [
    {
     "name": "stdout",
     "output_type": "stream",
     "text": [
      "pos-71_GATA_disc1-CCCGATAAGG-Gap7-TAL1_known1-CCAGCCAGATGGTGGC\n"
     ]
    }
   ],
   "source": [
    "print(data.embeddings[0][2])"
   ]
  },
  {
   "cell_type": "code",
   "execution_count": null,
   "metadata": {
    "collapsed": true
   },
   "outputs": [],
   "source": []
  }
 ],
 "metadata": {
  "kernelspec": {
   "display_name": "Python 2",
   "language": "python",
   "name": "python2"
  },
  "language_info": {
   "codemirror_mode": {
    "name": "ipython",
    "version": 2
   },
   "file_extension": ".py",
   "mimetype": "text/x-python",
   "name": "python",
   "nbconvert_exporter": "python",
   "pygments_lexer": "ipython2",
   "version": "2.7.12"
  }
 },
 "nbformat": 4,
 "nbformat_minor": 0
}
