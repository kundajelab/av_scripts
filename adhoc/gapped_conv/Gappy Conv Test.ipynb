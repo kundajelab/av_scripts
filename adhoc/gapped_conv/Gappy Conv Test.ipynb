{
 "cells": [
  {
   "cell_type": "code",
   "execution_count": 10,
   "metadata": {
    "collapsed": false
   },
   "outputs": [
    {
     "data": {
      "text/plain": [
       "array([[ 0.5057075 ],\n",
       "       [ 0.51846164],\n",
       "       [ 0.52111495],\n",
       "       [ 0.52171063],\n",
       "       [ 0.51034057],\n",
       "       [ 0.5215748 ],\n",
       "       [ 0.51053506],\n",
       "       [ 0.51475364],\n",
       "       [ 0.51490504],\n",
       "       [ 0.49569079]], dtype=float32)"
      ]
     },
     "execution_count": 10,
     "metadata": {},
     "output_type": "execute_result"
    }
   ],
   "source": [
    "import keras.layers.convolutional\n",
    "reload(keras.layers.convolutional)\n",
    "from keras.layers.convolutional import GappyConv1D, WeightedSumForGappyConv1D, Convolution1D\n",
    "from keras.layers.core import Flatten, Dense\n",
    "from keras.layers import Activation\n",
    "from keras.models import Sequential\n",
    "import numpy as np\n",
    "\n",
    "model = Sequential()\n",
    "model.add(Convolution1D(nb_filter=3, filter_length=10, input_shape=(100,4)))\n",
    "model.add(Activation('relu'))\n",
    "model.add(GappyConv1D(nb_filter=5, half_filter_length=5, min_gap=0, max_gap=5))\n",
    "model.add(WeightedSumForGappyConv1D())\n",
    "model.add(Flatten())\n",
    "model.add(Dense(1))\n",
    "model.add(Activation('sigmoid'))\n",
    "model.compile(optimizer='adam',\n",
    "              loss='binary_crossentropy')\n",
    "model.predict(np.random.random((10,100,4)))"
   ]
  },
  {
   "cell_type": "code",
   "execution_count": 6,
   "metadata": {
    "collapsed": false,
    "scrolled": false
   },
   "outputs": [],
   "source": [
    "import tensorflow as tf\n",
    "from keras import backend as K\n",
    "sess = K.get_session()\n",
    "final_W = model.layers[2].final_W.eval(session=sess)"
   ]
  },
  {
   "cell_type": "code",
   "execution_count": 7,
   "metadata": {
    "collapsed": false
   },
   "outputs": [
    {
     "data": {
      "text/plain": [
       "(15, 1, 3, 30)"
      ]
     },
     "execution_count": 7,
     "metadata": {},
     "output_type": "execute_result"
    }
   ],
   "source": [
    "final_W.shape"
   ]
  },
  {
   "cell_type": "code",
   "execution_count": 9,
   "metadata": {
    "collapsed": false
   },
   "outputs": [
    {
     "data": {
      "text/plain": [
       "array([[[ 0.        ,  0.        ,  0.        ]],\n",
       "\n",
       "       [[ 0.18952715, -0.06486885, -0.02553321]],\n",
       "\n",
       "       [[ 0.09405869,  0.05178832,  0.08757558]],\n",
       "\n",
       "       [[ 0.03486064,  0.13707414,  0.10136142]],\n",
       "\n",
       "       [[-0.05680129,  0.0071805 ,  0.17945117]],\n",
       "\n",
       "       [[ 0.06478041, -0.05594705,  0.01995988]],\n",
       "\n",
       "       [[ 0.        ,  0.        ,  0.        ]],\n",
       "\n",
       "       [[ 0.        ,  0.        ,  0.        ]],\n",
       "\n",
       "       [[ 0.        ,  0.        ,  0.        ]],\n",
       "\n",
       "       [[ 0.15036321,  0.13504657, -0.11553506]],\n",
       "\n",
       "       [[ 0.12407681, -0.18110289,  0.17815605]],\n",
       "\n",
       "       [[-0.11955968,  0.07681859,  0.01692899]],\n",
       "\n",
       "       [[ 0.18358636,  0.18069461,  0.07884368]],\n",
       "\n",
       "       [[-0.03902043,  0.04141819,  0.13488072]],\n",
       "\n",
       "       [[ 0.        ,  0.        ,  0.        ]]], dtype=float32)"
      ]
     },
     "execution_count": 9,
     "metadata": {},
     "output_type": "execute_result"
    }
   ],
   "source": [
    "final_W[:,:,:,15]"
   ]
  },
  {
   "cell_type": "code",
   "execution_count": null,
   "metadata": {
    "collapsed": true
   },
   "outputs": [],
   "source": []
  }
 ],
 "metadata": {
  "kernelspec": {
   "display_name": "Python 2",
   "language": "python",
   "name": "python2"
  },
  "language_info": {
   "codemirror_mode": {
    "name": "ipython",
    "version": 2
   },
   "file_extension": ".py",
   "mimetype": "text/x-python",
   "name": "python",
   "nbconvert_exporter": "python",
   "pygments_lexer": "ipython2",
   "version": "2.7.12"
  }
 },
 "nbformat": 4,
 "nbformat_minor": 0
}
