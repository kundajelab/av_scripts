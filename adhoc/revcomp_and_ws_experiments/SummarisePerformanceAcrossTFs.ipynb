{
 "cells": [
  {
   "cell_type": "code",
   "execution_count": 7,
   "metadata": {
    "collapsed": false
   },
   "outputs": [],
   "source": [
    "#summarise performance of multiple settings across multiple random seeds\n",
    "import yaml\n",
    "from collections import defaultdict\n",
    "grouped_records = defaultdict(list)\n",
    "for (experiment_prefix, folder) in [('fullCtcf', 'Ctcf'), ('Spi1', 'Spi1'), ('Max', 'Max')]:\n",
    "    db_records = yaml.load(open(folder+\"/runs_perf-metric-auROC.db\").read())['records']\n",
    "    filtered_records = [x for x in db_records if experiment_prefix in x['message']]\n",
    "    for filtered_record in filtered_records:\n",
    "        experiment_prefix, model_descriptor, seed = filtered_record['message'].split()\n",
    "        grouped_records[experiment_prefix+\"_\"+model_descriptor].append(filtered_record)"
   ]
  },
  {
   "cell_type": "code",
   "execution_count": 8,
   "metadata": {
    "collapsed": false
   },
   "outputs": [],
   "source": [
    "auroc_per_group = dict([(key, [x['best_valid_perf_info']['valid_all_stats']['mean_auROC'] for x in grouped_records[key]]) for key in grouped_records])\n",
    "auprc_per_group = dict([(key, [x['best_valid_perf_info']['valid_all_stats']['mean_auPRC'] for x in grouped_records[key]]) for key in grouped_records])"
   ]
  },
  {
   "cell_type": "code",
   "execution_count": 9,
   "metadata": {
    "collapsed": false
   },
   "outputs": [
    {
     "data": {
      "text/plain": [
       "{'Max_rc-f_nbf-16_ws-f_str-20': [0.6492166461702082,\n",
       "  0.6386407007422242,\n",
       "  0.6486744613212625,\n",
       "  0.6325287961771597,\n",
       "  0.615670462265583,\n",
       "  0.6402335561485326,\n",
       "  0.6348935255999855,\n",
       "  0.6356111010899694,\n",
       "  0.6328660854712268,\n",
       "  0.639113794023318],\n",
       " 'Max_rc-t_nbf-16_ws-t_symws-f_ircws-t_str-20': [0.685609148462511,\n",
       "  0.689860741670246,\n",
       "  0.6739799234406197,\n",
       "  0.67071750982581,\n",
       "  0.6698414879422796,\n",
       "  0.6773390559466266,\n",
       "  0.6729598639148492,\n",
       "  0.6729734090763188,\n",
       "  0.6453700896789544,\n",
       "  0.6544037739170462],\n",
       " 'Spi1_rc-f_nbf-16_ws-f_str-20': [0.9689040322590337,\n",
       "  0.9677069820732686,\n",
       "  0.966533634076082,\n",
       "  0.966791589919471,\n",
       "  0.9661010955209184,\n",
       "  0.965779445053993,\n",
       "  0.9654344160586922,\n",
       "  0.9659147778253538,\n",
       "  0.9666766485698413,\n",
       "  0.965427301932966],\n",
       " 'Spi1_rc-t_nbf-16_ws-t_symws-f_ircws-t_str-20': [0.9763476495754337,\n",
       "  0.9766649320969415,\n",
       "  0.9758649702104747,\n",
       "  0.9757085085223284,\n",
       "  0.975880337766755,\n",
       "  0.9751863677858051,\n",
       "  0.9754847720256078,\n",
       "  0.9754815045586107,\n",
       "  0.9751410963937645,\n",
       "  0.9748184964584532],\n",
       " 'fullCtcf_rc-f_nbf-16_ws-f_str-20': [0.9521564093792091,\n",
       "  0.9507458639348213,\n",
       "  0.949613395735214,\n",
       "  0.9485994138163091,\n",
       "  0.9500377905113746,\n",
       "  0.9502993163126221,\n",
       "  0.9496077190414285,\n",
       "  0.9489404607838401,\n",
       "  0.9488255261166327,\n",
       "  0.9464853965288935],\n",
       " 'fullCtcf_rc-t_nbf-16_ws-t_symws-f_ircws-t_str-20': [0.9671075332316695,\n",
       "  0.9659955944913368,\n",
       "  0.9643135926969406,\n",
       "  0.9652308680854357,\n",
       "  0.9652308466198687,\n",
       "  0.9641367827038936,\n",
       "  0.9625871220351117,\n",
       "  0.9636697019038547,\n",
       "  0.9643391632997336,\n",
       "  0.9625840440669932]}"
      ]
     },
     "execution_count": 9,
     "metadata": {},
     "output_type": "execute_result"
    }
   ],
   "source": [
    "auprc_per_group"
   ]
  },
  {
   "cell_type": "code",
   "execution_count": 11,
   "metadata": {
    "collapsed": false
   },
   "outputs": [
    {
     "data": {
      "image/png": "[encoded data removed]",
      "text/plain": [
       "<matplotlib.figure.Figure at 0x7fe5bbffa390>"
      ]
     },
     "metadata": {},
     "output_type": "display_data"
    },
    {
     "data": {
      "image/png": "[encoded data removed]",
      "text/plain": [
       "<matplotlib.figure.Figure at 0x7fe5c55ffc50>"
      ]
     },
     "metadata": {},
     "output_type": "display_data"
    }
   ],
   "source": [
    "%matplotlib inline\n",
    "import numpy as np\n",
    "import matplotlib.pyplot as plt\n",
    "import numpy as np\n",
    "\n",
    "without_rc_keys = ['fullCtcf_rc-f_nbf-16_ws-f_str-20', 'Spi1_rc-f_nbf-16_ws-f_str-20', 'Max_rc-f_nbf-16_ws-f_str-20']\n",
    "with_rc_keys = ['fullCtcf_rc-t_nbf-16_ws-t_symws-f_ircws-t_str-20', 'Spi1_rc-t_nbf-16_ws-t_symws-f_ircws-t_str-20', 'Max_rc-t_nbf-16_ws-t_symws-f_ircws-t_str-20']\n",
    "\n",
    "for group_stats, stats_name, ymin in [(auroc_per_group, 'auroc', 0.9), (auprc_per_group, 'auprc', 0.6)]:\n",
    "\n",
    "    N = 3\n",
    "    ind = np.arange(N)  # the x locations for the groups\n",
    "    width = 0.35       # the width of the bars\n",
    "    fig, ax = plt.subplots()\n",
    "\n",
    "    \n",
    "    all_rects = []\n",
    "    \n",
    "    for series_idx, (series, color) in enumerate([(without_rc_keys, 'r'), (with_rc_keys, 'g')]):\n",
    "        means = np.array([np.mean(group_stats[x]) for x in series])\n",
    "        upper_error = np.array([np.max(group_stats[x]) for x in series]) - means\n",
    "        lower_error = np.abs(np.array([np.min(group_stats[x]) for x in series]) - means)\n",
    "        rects = ax.bar(ind + width*series_idx, means, width, color=color, yerr=[upper_error, lower_error], ecolor='b')\n",
    "        all_rects.append(rects)\n",
    "        \n",
    "    # add some text for labels, title and axes ticks\n",
    "    ax.set_ylabel(stats_name)\n",
    "    ax.set_ylim(ymin,1.0)\n",
    "    ax.set_title(stats_name+' by num filters, with/without rc')\n",
    "    ax.set_xticks(ind + width / 2.0)\n",
    "    ax.set_xticklabels(('Ctcf', 'Spi1', 'Max'))\n",
    "    ax.legend((all_rects[0][0], all_rects[1][0]), ('without-rc', 'with-rc'), loc=0)\n",
    "    plt.show()"
   ]
  },
  {
   "cell_type": "code",
   "execution_count": null,
   "metadata": {
    "collapsed": true
   },
   "outputs": [],
   "source": []
  }
 ],
 "metadata": {
  "kernelspec": {
   "display_name": "Python 2",
   "language": "python",
   "name": "python2"
  },
  "language_info": {
   "codemirror_mode": {
    "name": "ipython",
    "version": 2
   },
   "file_extension": ".py",
   "mimetype": "text/x-python",
   "name": "python",
   "nbconvert_exporter": "python",
   "pygments_lexer": "ipython2",
   "version": "2.7.11"
  }
 },
 "nbformat": 4,
 "nbformat_minor": 0
}
