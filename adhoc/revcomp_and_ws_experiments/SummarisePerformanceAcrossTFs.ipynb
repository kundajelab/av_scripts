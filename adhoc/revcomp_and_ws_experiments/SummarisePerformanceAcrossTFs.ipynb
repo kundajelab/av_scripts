{
 "cells": [
  {
   "cell_type": "code",
   "execution_count": 1,
   "metadata": {
    "collapsed": true
   },
   "outputs": [],
   "source": [
    "#summarise performance of multiple settings across multiple random seeds\n",
    "\n",
    "experiment_prefix = \"chr1x2\"\n",
    "db_name = \"runs_perf-metric-auROC.db\""
   ]
  },
  {
   "cell_type": "code",
   "execution_count": 2,
   "metadata": {
    "collapsed": true
   },
   "outputs": [],
   "source": [
    "#read db objects\n",
    "import yaml\n",
    "db_records = yaml.load(open(db_name).read())['records']"
   ]
  },
  {
   "cell_type": "code",
   "execution_count": 3,
   "metadata": {
    "collapsed": false
   },
   "outputs": [],
   "source": [
    "from collections import defaultdict\n",
    "\n",
    "filtered_records = [x for x in db_records if experiment_prefix in x['message']]\n",
    "grouped_records = defaultdict(list)\n",
    "#group records by the model descriptor tag\n",
    "for filtered_record in filtered_records:\n",
    "    experiment_prefix, model_descriptor, seed = filtered_record['message'].split()\n",
    "    grouped_records[model_descriptor].append(filtered_record)"
   ]
  },
  {
   "cell_type": "code",
   "execution_count": 9,
   "metadata": {
    "collapsed": false
   },
   "outputs": [],
   "source": [
    "auroc_per_group = dict([(key, [x['best_valid_perf_info']['valid_all_stats']['mean_auROC'] for x in grouped_records[key]]) for key in grouped_records])\n",
    "auprc_per_group = dict([(key, [x['best_valid_perf_info']['valid_all_stats']['mean_auPRC'] for x in grouped_records[key]]) for key in grouped_records])"
   ]
  },
  {
   "cell_type": "code",
   "execution_count": 16,
   "metadata": {
    "collapsed": false
   },
   "outputs": [
    {
     "data": {
      "text/plain": [
       "{'rc-f_nbf-16_ws-f_str-20': [0.8783493273068049,\n",
       "  0.8793182524839646,\n",
       "  0.877218108926655,\n",
       "  0.878305718881865,\n",
       "  0.8727479591785136,\n",
       "  0.8698197470372846,\n",
       "  0.8750386844107139,\n",
       "  0.8700635550493123,\n",
       "  0.8733968831825561,\n",
       "  0.8700403956662438],\n",
       " 'rc-f_nbf-16_ws-t_symws-t_ircws-f_str-20': [0.8841767337896221,\n",
       "  0.8813887299750731,\n",
       "  0.8774045226069526,\n",
       "  0.8748801028533978,\n",
       "  0.8784180279366711,\n",
       "  0.8730604297116461,\n",
       "  0.8680344555388565,\n",
       "  0.8715795966446911,\n",
       "  0.8662187569739704,\n",
       "  0.8721066631473229],\n",
       " 'rc-f_nbf-32_ws-f_str-20': [0.8974829710897154,\n",
       "  0.9003368015496189,\n",
       "  0.8891876659551944,\n",
       "  0.8978513098818136,\n",
       "  0.8976082455204037,\n",
       "  0.8946763870406289,\n",
       "  0.8925847369989665,\n",
       "  0.8930679661861255,\n",
       "  0.8957402447159565,\n",
       "  0.8932487124224588],\n",
       " 'rc-f_nbf-8_ws-f_str-20': [0.8519548008380554,\n",
       "  0.8599975594932273,\n",
       "  0.8621697149687108,\n",
       "  0.857566333710457,\n",
       "  0.84756478532793,\n",
       "  0.8508834173559976,\n",
       "  0.8408261120737451,\n",
       "  0.8481166340559391,\n",
       "  0.8432206740684225],\n",
       " 'rc-t_nbf-16_ws-t_symws-f_ircws-t_str-20': [0.9148931819963247,\n",
       "  0.9065885522133361,\n",
       "  0.9055078899729425,\n",
       "  0.9069184163952481,\n",
       "  0.9052708125295491,\n",
       "  0.9026791987501632,\n",
       "  0.9051290926732287,\n",
       "  0.9060133967281605,\n",
       "  0.910164865536716,\n",
       "  0.9041152020800892],\n",
       " 'rc-t_nbf-16_ws-t_symws-t_ircws-t_str-20': [0.9101829388381754,\n",
       "  0.9063284883784347,\n",
       "  0.9076433461391847,\n",
       "  0.9083655112641266,\n",
       "  0.9076148883252527,\n",
       "  0.9036522047182564,\n",
       "  0.9026028376367818,\n",
       "  0.903526034937116,\n",
       "  0.8986065251674668,\n",
       "  0.9021178911563094],\n",
       " 'rc-t_nbf-32_ws-t_symws-f_ircws-t_str-20': [0.9227550009621124,\n",
       "  0.923020165824235,\n",
       "  0.9195268103982683,\n",
       "  0.9205564672805235,\n",
       "  0.9212207542963373,\n",
       "  0.9201576783734627,\n",
       "  0.9139572229338144,\n",
       "  0.9189058238544406,\n",
       "  0.912799295064723,\n",
       "  0.9174716367583055],\n",
       " 'rc-t_nbf-8_ws-t_symws-f_ircws-t_str-20': [0.8886598969890045,\n",
       "  0.8943920023595318,\n",
       "  0.8871377377363863,\n",
       "  0.881558443869449,\n",
       "  0.883216004613671,\n",
       "  0.8827880302154052,\n",
       "  0.8799726940149375,\n",
       "  0.8852159186814251,\n",
       "  0.8780546396693747]}"
      ]
     },
     "execution_count": 16,
     "metadata": {},
     "output_type": "execute_result"
    }
   ],
   "source": [
    "auprc_per_group"
   ]
  },
  {
   "cell_type": "code",
   "execution_count": 33,
   "metadata": {
    "collapsed": false
   },
   "outputs": [
    {
     "data": {
      "image/png": "[encoded data removed]",
      "text/plain": [
       "<matplotlib.figure.Figure at 0x7f877d392510>"
      ]
     },
     "metadata": {},
     "output_type": "display_data"
    },
    {
     "data": {
      "image/png": "[encoded data removed]",
      "text/plain": [
       "<matplotlib.figure.Figure at 0x7f877a6d7b10>"
      ]
     },
     "metadata": {},
     "output_type": "display_data"
    }
   ],
   "source": [
    "%matplotlib inline\n",
    "import numpy as np\n",
    "import matplotlib.pyplot as plt\n",
    "import numpy as np\n",
    "\n",
    "without_rc_keys = ['rc-f_nbf-8_ws-f_str-20', 'rc-f_nbf-16_ws-f_str-20', 'rc-f_nbf-32_ws-f_str-20']\n",
    "with_rc_keys = ['rc-t_nbf-8_ws-t_symws-f_ircws-t_str-20', 'rc-t_nbf-16_ws-t_symws-f_ircws-t_str-20', 'rc-t_nbf-32_ws-t_symws-f_ircws-t_str-20']\n",
    "\n",
    "for group_stats, stats_name, ymin in [(auroc_per_group, 'auroc', 0.9), (auprc_per_group, 'auprc', 0.8)]:\n",
    "\n",
    "    N = 3\n",
    "    ind = np.arange(N)  # the x locations for the groups\n",
    "    width = 0.35       # the width of the bars\n",
    "    fig, ax = plt.subplots()\n",
    "\n",
    "    \n",
    "    all_rects = []\n",
    "    \n",
    "    for series_idx, (series, color) in enumerate([(without_rc_keys, 'r'), (with_rc_keys, 'g')]):\n",
    "        means = np.array([np.mean(group_stats[x]) for x in series])\n",
    "        upper_error = np.array([np.max(group_stats[x]) for x in series]) - means\n",
    "        lower_error = np.abs(np.array([np.min(group_stats[x]) for x in series]) - means)\n",
    "        rects = ax.bar(ind + width*series_idx, means, width, color=color, yerr=[upper_error, lower_error], ecolor='b')\n",
    "        all_rects.append(rects)\n",
    "        \n",
    "    # add some text for labels, title and axes ticks\n",
    "    ax.set_ylabel(stats_name)\n",
    "    ax.set_ylim(ymin,1.0)\n",
    "    ax.set_title(stats_name+' by num filters, with/without rc')\n",
    "    ax.set_xticks(ind + width / 2.0)\n",
    "    ax.set_xticklabels(('8', '16', '32'))\n",
    "    ax.legend((all_rects[0][0], all_rects[1][0]), ('without-rc', 'with-rc'), loc=4)\n",
    "    plt.show()"
   ]
  },
  {
   "cell_type": "code",
   "execution_count": null,
   "metadata": {
    "collapsed": true
   },
   "outputs": [],
   "source": []
  }
 ],
 "metadata": {
  "kernelspec": {
   "display_name": "Python 2",
   "language": "python",
   "name": "python2"
  },
  "language_info": {
   "codemirror_mode": {
    "name": "ipython",
    "version": 2
   },
   "file_extension": ".py",
   "mimetype": "text/x-python",
   "name": "python",
   "nbconvert_exporter": "python",
   "pygments_lexer": "ipython2",
   "version": "2.7.11"
  }
 },
 "nbformat": 4,
 "nbformat_minor": 0
}
