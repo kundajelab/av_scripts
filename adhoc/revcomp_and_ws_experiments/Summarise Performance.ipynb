{
 "cells": [
  {
   "cell_type": "code",
   "execution_count": 1,
   "metadata": {
    "collapsed": true
   },
   "outputs": [],
   "source": [
    "#summarise performance of multiple settings across multiple random seeds\n",
    "\n",
    "experiment_prefix = \"chr1x2\"\n",
    "db_name = \"runs_perf-metric-auROC.db\""
   ]
  },
  {
   "cell_type": "code",
   "execution_count": 2,
   "metadata": {
    "collapsed": true
   },
   "outputs": [],
   "source": [
    "#read db objects\n",
    "import yaml\n",
    "db_records = yaml.load(open(db_name).read())['records']"
   ]
  },
  {
   "cell_type": "code",
   "execution_count": 3,
   "metadata": {
    "collapsed": false
   },
   "outputs": [],
   "source": [
    "from collections import defaultdict\n",
    "\n",
    "filtered_records = [x for x in db_records if experiment_prefix in x['message']]\n",
    "grouped_records = defaultdict(list)\n",
    "#group records by the model descriptor tag\n",
    "for filtered_record in filtered_records:\n",
    "    experiment_prefix, model_descriptor, seed = filtered_record['message'].split()\n",
    "    grouped_records[model_descriptor].append(filtered_record)"
   ]
  },
  {
   "cell_type": "code",
   "execution_count": 4,
   "metadata": {
    "collapsed": false
   },
   "outputs": [],
   "source": [
    "perf_per_group = dict([(key, [x['best_valid_key_metric'] for x in grouped_records[key]]) for key in grouped_records])"
   ]
  },
  {
   "cell_type": "code",
   "execution_count": 5,
   "metadata": {
    "collapsed": false
   },
   "outputs": [
    {
     "data": {
      "text/plain": [
       "{'rc-f_nbf-16_ws-f_str-20': [0.9592268756152486,\n",
       "  0.9570946107664782,\n",
       "  0.9566501824225149,\n",
       "  0.9562691988894916,\n",
       "  0.9556687348573697,\n",
       "  0.9532157846126942],\n",
       " 'rc-f_nbf-16_ws-t_symws-t_ircws-f_str-20': [0.9595270486311752,\n",
       "  0.9580911033658357,\n",
       "  0.9577227261948128,\n",
       "  0.9572626038151612,\n",
       "  0.9552047971357086,\n",
       "  0.9547747844911932],\n",
       " 'rc-f_nbf-32_ws-f_str-20': [0.963684650418895,\n",
       "  0.9620249373113742,\n",
       "  0.9619469588007177,\n",
       "  0.9606140474363438],\n",
       " 'rc-f_nbf-8_ws-f_str-20': [0.9509023106851878,\n",
       "  0.949948042515182,\n",
       "  0.9468971455774424,\n",
       "  0.9452891165874511],\n",
       " 'rc-t_nbf-16_ws-t_symws-f_ircws-t_str-20': [0.9685236644228129,\n",
       "  0.9681204181724976,\n",
       "  0.9680776430752271,\n",
       "  0.9672556728727333,\n",
       "  0.9672035364208418,\n",
       "  0.9667270906707375],\n",
       " 'rc-t_nbf-16_ws-t_symws-t_ircws-t_str-20': [0.9694565352108279,\n",
       "  0.9681336735359738,\n",
       "  0.9680919604411181,\n",
       "  0.9668052461817965,\n",
       "  0.9664179693011288,\n",
       "  0.9656227064927013],\n",
       " 'rc-t_nbf-32_ws-t_symws-f_ircws-t_str-20': [0.9721522513408862,\n",
       "  0.9718290682726345,\n",
       "  0.9714654897791904,\n",
       "  0.9702005072359534],\n",
       " 'rc-t_nbf-8_ws-t_symws-f_ircws-t_str-20': [0.9618961596852004,\n",
       "  0.9613665351475008,\n",
       "  0.9603873689208768,\n",
       "  0.95906588391582]}"
      ]
     },
     "execution_count": 5,
     "metadata": {},
     "output_type": "execute_result"
    }
   ],
   "source": [
    "perf_per_group"
   ]
  },
  {
   "cell_type": "code",
   "execution_count": null,
   "metadata": {
    "collapsed": true
   },
   "outputs": [],
   "source": []
  }
 ],
 "metadata": {
  "kernelspec": {
   "display_name": "Python 2",
   "language": "python",
   "name": "python2"
  },
  "language_info": {
   "codemirror_mode": {
    "name": "ipython",
    "version": 2
   },
   "file_extension": ".py",
   "mimetype": "text/x-python",
   "name": "python",
   "nbconvert_exporter": "python",
   "pygments_lexer": "ipython2",
   "version": "2.7.11"
  }
 },
 "nbformat": 4,
 "nbformat_minor": 0
}
