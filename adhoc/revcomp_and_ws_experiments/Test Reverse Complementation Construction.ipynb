{
 "cells": [
  {
   "cell_type": "code",
   "execution_count": 7,
   "metadata": {
    "collapsed": false
   },
   "outputs": [],
   "source": []
  },
  {
   "cell_type": "code",
   "execution_count": 27,
   "metadata": {
    "collapsed": false
   },
   "outputs": [
    {
     "name": "stdout",
     "output_type": "stream",
     "text": [
      "Max prediction on forward seqs 0.502919\n",
      "Max prediction on revcomps 0.502919\n",
      "Maximum absolute difference: 0.0\n"
     ]
    }
   ],
   "source": [
    "#install keras from https://github.com/kundajelab/keras/tree/keras_1\n",
    "#this gist is linked at https://gist.github.com/AvantiShri/21ec8de292b9c0c91e4d448b5c02a118\n",
    "from __future__ import print_function\n",
    "import keras\n",
    "import numpy as np\n",
    "np.random.seed(1)\n",
    "\n",
    "#build a sample model\n",
    "model = keras.models.Sequential()\n",
    "model.add(keras.layers.convolutional.RevCompConv1D(input_shape=(100,4),\n",
    "                                                   nb_filter=10,\n",
    "                                                   filter_length=11))\n",
    "model.add(keras.layers.normalization.RevCompConv1DBatchNorm())\n",
    "model.add(keras.layers.core.Activation(\"relu\"))\n",
    "model.add(keras.layers.convolutional.RevCompConv1D(nb_filter=10,\n",
    "                                                   filter_length=11))\n",
    "model.add(keras.layers.normalization.RevCompConv1DBatchNorm())\n",
    "model.add(keras.layers.core.Activation(\"relu\"))\n",
    "model.add(keras.layers.convolutional.RevCompConv1D(nb_filter=10,\n",
    "                                                   filter_length=11))\n",
    "model.add(keras.layers.normalization.RevCompConv1DBatchNorm())\n",
    "model.add(keras.layers.core.Activation(\"relu\"))\n",
    "model.add(keras.layers.pooling.MaxPooling1D(pool_length=10))\n",
    "model.add(keras.layers.convolutional.WeightedSum1D(symmetric=False,\n",
    "                                                   input_is_revcomp_conv=True,\n",
    "                                                   bias=False,\n",
    "                                                   init=\"fanintimesfanouttimestwo\"))\n",
    "model.add(keras.layers.core.DenseAfterRevcompWeightedSum(output_dim=10))\n",
    "model.add(keras.layers.core.Activation(\"relu\"))\n",
    "model.add(keras.layers.core.Dense(output_dim=10))\n",
    "model.add(keras.layers.core.Activation(\"sigmoid\"))\n",
    "model.compile(optimizer=\"sgd\", loss=\"binary_crossentropy\")\n",
    "\n",
    "#randomly generate some inputs\n",
    "rand_inp = np.random.random((10, 100, 4))\n",
    "\n",
    "#confirm that forward and reverse-complement versions give same results\n",
    "fwd_predict = model.predict(rand_inp)\n",
    "rev_predict = model.predict(rand_inp[:, ::-1, ::-1])\n",
    "\n",
    "#print the maximum value of the forward and reverse predictions\n",
    "#should give 0.502919\n",
    "print(\"Max prediction on forward seqs\",np.max(fwd_predict))\n",
    "print(\"Max prediction on revcomps\",np.max(rev_predict))\n",
    "\n",
    "#print the max difference in predictions\n",
    "#should give 0.0\n",
    "print(\"Maximum absolute difference:\",np.max(np.abs(fwd_predict - rev_predict)))"
   ]
  },
  {
   "cell_type": "code",
   "execution_count": 9,
   "metadata": {
    "collapsed": true
   },
   "outputs": [],
   "source": [
    "#model.add(keras.layers.core.DenseAfterRevcompConv1D(output_dim=10, init=\"glorot_uniform_2xin\"))\n"
   ]
  },
  {
   "cell_type": "code",
   "execution_count": 10,
   "metadata": {
    "collapsed": false
   },
   "outputs": [],
   "source": []
  },
  {
   "cell_type": "code",
   "execution_count": 11,
   "metadata": {
    "collapsed": false
   },
   "outputs": [
    {
     "data": {
      "text/plain": [
       "9.1269612e-08"
      ]
     },
     "execution_count": 11,
     "metadata": {},
     "output_type": "execute_result"
    }
   ],
   "source": []
  },
  {
   "cell_type": "code",
   "execution_count": 12,
   "metadata": {
    "collapsed": false
   },
   "outputs": [
    {
     "name": "stdout",
     "output_type": "stream",
     "text": [
      "0.0\n",
      "0.0\n"
     ]
    }
   ],
   "source": [
    "#save and reload the model\n",
    "json = model.to_json()\n",
    "model.save_weights('model_weights.h5')\n",
    "from keras.models import model_from_json\n",
    "new_model = model_from_json(json)\n",
    "new_model.load_weights('model_weights.h5')\n",
    "fwd_predict_new = new_model.predict(rand_inp)\n",
    "rev_predict_new = new_model.predict(rand_inp[:, ::-1, ::-1])\n",
    "print(np.max(np.abs(fwd_predict - fwd_predict_new)))\n",
    "print(np.max(np.abs(rev_predict - rev_predict_new)))"
   ]
  },
  {
   "cell_type": "code",
   "execution_count": null,
   "metadata": {
    "collapsed": true
   },
   "outputs": [],
   "source": []
  }
 ],
 "metadata": {
  "kernelspec": {
   "display_name": "Python 2",
   "language": "python",
   "name": "python2"
  },
  "language_info": {
   "codemirror_mode": {
    "name": "ipython",
    "version": 2
   },
   "file_extension": ".py",
   "mimetype": "text/x-python",
   "name": "python",
   "nbconvert_exporter": "python",
   "pygments_lexer": "ipython2",
   "version": "2.7.11"
  }
 },
 "nbformat": 4,
 "nbformat_minor": 0
}
