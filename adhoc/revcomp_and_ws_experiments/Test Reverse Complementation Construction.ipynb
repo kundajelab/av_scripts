{
 "cells": [
  {
   "cell_type": "code",
   "execution_count": 7,
   "metadata": {
    "collapsed": false
   },
   "outputs": [],
   "source": [
    "import keras"
   ]
  },
  {
   "cell_type": "code",
   "execution_count": 8,
   "metadata": {
    "collapsed": false
   },
   "outputs": [],
   "source": [
    "model = keras.models.Sequential()\n",
    "model.add(keras.layers.convolutional.RevCompConv1D(input_shape=(100,4), nb_filter=10, filter_length=11))\n",
    "model.add(keras.layers.normalization.RevCompConv1DBatchNorm())\n",
    "model.add(keras.layers.convolutional.RevCompConv1D(nb_filter=10, filter_length=11))\n",
    "model.add(keras.layers.normalization.RevCompConv1DBatchNorm())\n",
    "model.add(keras.layers.convolutional.RevCompConv1D(nb_filter=10, filter_length=11))\n",
    "model.add(keras.layers.normalization.RevCompConv1DBatchNorm())\n",
    "model.add(keras.layers.pooling.MaxPooling1D(pool_length=10))\n",
    "#model.add(keras.layers.convolutional.WeightedSum1D(symmetric=False, input_is_revcomp_conv=True, bias=False))\n",
    "#model.add(keras.layers.core.DenseAfterRevcompWeightedSum(output_dim=10))\n",
    "model.add(keras.layers.core.DenseAfterRevcompConv1D(output_dim=10, init=\"glorot_uniform_2xin\"))\n",
    "model.add(keras.layers.core.Dense(output_dim=10))\n",
    "model.compile(optimizer=\"sgd\", loss=\"binary_crossentropy\")"
   ]
  },
  {
   "cell_type": "code",
   "execution_count": 9,
   "metadata": {
    "collapsed": true
   },
   "outputs": [],
   "source": [
    "import numpy as np\n",
    "rand_inp = np.random.random((10, 100, 4))"
   ]
  },
  {
   "cell_type": "code",
   "execution_count": 10,
   "metadata": {
    "collapsed": false
   },
   "outputs": [],
   "source": [
    "fwd_predict = model.predict(rand_inp)\n",
    "rev_predict = model.predict(rand_inp[:, ::-1, ::-1])"
   ]
  },
  {
   "cell_type": "code",
   "execution_count": 11,
   "metadata": {
    "collapsed": false
   },
   "outputs": [
    {
     "data": {
      "text/plain": [
       "9.1269612e-08"
      ]
     },
     "execution_count": 11,
     "metadata": {},
     "output_type": "execute_result"
    }
   ],
   "source": [
    "np.max(np.abs(fwd_predict - rev_predict))"
   ]
  },
  {
   "cell_type": "code",
   "execution_count": 12,
   "metadata": {
    "collapsed": false
   },
   "outputs": [
    {
     "name": "stdout",
     "output_type": "stream",
     "text": [
      "0.0\n",
      "0.0\n"
     ]
    }
   ],
   "source": [
    "#save and reload the model\n",
    "json = model.to_json()\n",
    "model.save_weights('model_weights.h5')\n",
    "from keras.models import model_from_json\n",
    "new_model = model_from_json(json)\n",
    "new_model.load_weights('model_weights.h5')\n",
    "fwd_predict_new = new_model.predict(rand_inp)\n",
    "rev_predict_new = new_model.predict(rand_inp[:, ::-1, ::-1])\n",
    "print(np.max(np.abs(fwd_predict - fwd_predict_new)))\n",
    "print(np.max(np.abs(rev_predict - rev_predict_new)))"
   ]
  },
  {
   "cell_type": "code",
   "execution_count": null,
   "metadata": {
    "collapsed": true
   },
   "outputs": [],
   "source": []
  }
 ],
 "metadata": {
  "kernelspec": {
   "display_name": "Python 2",
   "language": "python",
   "name": "python2"
  },
  "language_info": {
   "codemirror_mode": {
    "name": "ipython",
    "version": 2
   },
   "file_extension": ".py",
   "mimetype": "text/x-python",
   "name": "python",
   "nbconvert_exporter": "python",
   "pygments_lexer": "ipython2",
   "version": "2.7.11"
  }
 },
 "nbformat": 4,
 "nbformat_minor": 0
}
