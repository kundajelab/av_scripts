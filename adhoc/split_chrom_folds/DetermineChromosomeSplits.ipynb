{
 "cells": [
  {
   "cell_type": "code",
   "execution_count": 1,
   "metadata": {
    "collapsed": true
   },
   "outputs": [],
   "source": [
    "chrom_to_len = { \n",
    "    \"chr1\":249250621,\n",
    "    \"chr2\":243199373,\n",
    "    \"chr3\":198022430,\n",
    "    \"chr4\":191154276,\n",
    "    \"chr5\":180915260,\n",
    "    \"chr6\":171115067,\n",
    "    \"chr7\":159138663,\n",
    "    \"chrX\":155270560,\n",
    "    \"chr8\":146364022,\n",
    "    \"chr9\":141213431,\n",
    "    \"chr10\":135534747,\n",
    "    \"chr11\":135006516,\n",
    "    \"chr12\":133851895,\n",
    "    \"chr13\":115169878,\n",
    "    \"chr14\":107349540,\n",
    "    \"chr15\":102531392,\n",
    "    \"chr16\":90354753,\n",
    "    \"chr17\":81195210,\n",
    "    \"chr18\":78077248,\n",
    "    \"chr20\":63025520,\n",
    "    \"chrY\":59373566,\n",
    "    \"chr19\":59128983,\n",
    "    \"chr22\":51304566,\n",
    "    \"chr21\":48129895,\n",
    "}"
   ]
  },
  {
   "cell_type": "code",
   "execution_count": 167,
   "metadata": {
    "collapsed": false
   },
   "outputs": [],
   "source": [
    "foldsizes = [(chrom_to_len['chr1']),\n",
    "             (chrom_to_len['chr2']),\n",
    "             (chrom_to_len['chr6'] + chrom_to_len['chrY'] + chrom_to_len['chr22']),\n",
    "             (chrom_to_len['chr5'] + chrom_to_len['chr19'] + chrom_to_len['chr21']),\n",
    "             (chrom_to_len['chr3'] + chrom_to_len['chr20']),\n",
    "             (chrom_to_len['chr4'] + chrom_to_len['chr18']),\n",
    "             (chrom_to_len['chr5'] + chrom_to_len['chr17']),\n",
    "             (chrom_to_len['chr6'] + chrom_to_len['chr16']),\n",
    "             (chrom_to_len['chr7'] + chrom_to_len['chr15']),\n",
    "             (chrom_to_len['chrX'] + chrom_to_len['chr14']),\n",
    "             (chrom_to_len['chr8'] + chrom_to_len['chr13']),\n",
    "             (chrom_to_len['chr9'] + chrom_to_len['chr12']),\n",
    "             (chrom_to_len['chr10'] + chrom_to_len['chr11']),\n",
    "            ]\n"
   ]
  },
  {
   "cell_type": "code",
   "execution_count": 173,
   "metadata": {
    "collapsed": false
   },
   "outputs": [
    {
     "data": {
      "text/plain": [
       "[249250621,\n",
       " 243199373,\n",
       " 281793199,\n",
       " 288174138,\n",
       " 261047950,\n",
       " 269231524,\n",
       " 262110470,\n",
       " 261469820,\n",
       " 261670055,\n",
       " 262620100,\n",
       " 261533900,\n",
       " 275065326,\n",
       " 270541263]"
      ]
     },
     "execution_count": 173,
     "metadata": {},
     "output_type": "execute_result"
    }
   ],
   "source": [
    "foldsizes"
   ]
  },
  {
   "cell_type": "code",
   "execution_count": 168,
   "metadata": {
    "collapsed": false
   },
   "outputs": [
    {
     "data": {
      "text/plain": [
       "0.08659552305515189"
      ]
     },
     "execution_count": 168,
     "metadata": {},
     "output_type": "execute_result"
    }
   ],
   "source": [
    "import numpy as np\n",
    "np.max(np.abs(foldsizes)-np.mean(foldsizes))/np.mean(foldsizes)"
   ]
  }
 ],
 "metadata": {
  "kernelspec": {
   "display_name": "Python 2",
   "language": "python",
   "name": "python2"
  },
  "language_info": {
   "codemirror_mode": {
    "name": "ipython",
    "version": 2
   },
   "file_extension": ".py",
   "mimetype": "text/x-python",
   "name": "python",
   "nbconvert_exporter": "python",
   "pygments_lexer": "ipython2",
   "version": "2.7.12"
  }
 },
 "nbformat": 4,
 "nbformat_minor": 0
}
